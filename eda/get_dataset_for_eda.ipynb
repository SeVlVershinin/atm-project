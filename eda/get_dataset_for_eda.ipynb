{
 "cells": [
  {
   "cell_type": "markdown",
   "source": [
    "### Подготовка датасета для разведочного анализа\n",
    "Загрузим полученный на этапе первичного сбора данных датасет и посмотрим на состав столбцов в нем"
   ],
   "metadata": {
    "collapsed": false
   },
   "id": "bcc1258af916d82d"
  },
  {
   "cell_type": "code",
   "execution_count": 25,
   "id": "initial_id",
   "metadata": {
    "collapsed": true,
    "ExecuteTime": {
     "end_time": "2023-11-14T19:09:57.386715800Z",
     "start_time": "2023-11-14T19:09:57.308259400Z"
    }
   },
   "outputs": [
    {
     "data": {
      "text/plain": "      Unnamed: 0      id  atm_group                                 address  \\\n0           2606     5.0      496.5  BUDENNOGO 7A              ELISTA         \n1           2607     6.0      496.5  HO CHI MIHN AVE, 19       ULYANOVSK      \n2           5126     7.0      496.5  SHELESTA 116A             KHABAROVSK     \n3           2608     8.0      496.5  ORDZHONIKIDZE 52          YAKUTSK        \n4           2609    10.0      496.5  VETERANOV AVE, 3          KRASNOKAMENS   \n...          ...     ...        ...                                     ...   \n6256        5125  8806.0      496.5  CHKALOVA 14               S. TROITSKOY   \n6257        1368  8807.0      496.5  OKTYABRSKAYA 18A          IKI-BURUL      \n6258        2605  8809.0      496.5  ZHIGULSKOGO 1\"Z\"          LAGAN          \n6259        3873  8810.0      496.5  GORODOVIKOVA 3A           ELISTA         \n6260        1369  8811.0      496.5  LENINA 11/3               ELISTA         \n\n                                            address_rus        lat  \\\n0     улица С.М. Будённого, 7А, Элиста, Республика К...  46.318213   \n1                   г Ульяновск, пр-кт Хо Ши Мина, д 19  54.270398   \n2        улица Шелеста, 116А, Хабаровск, Россия, 680042  48.520503   \n3     улица Орджоникидзе, 52, Якутск, Республика Сах...  62.025583   \n4     проспект Ветеранов, 11, Краснокаменск, Забайка...  50.089050   \n...                                                 ...        ...   \n6256  улица Чкалова, 14, Шемуршинский район, Чувашск...  54.879459   \n6257  Октябрьская улица, 16, поселок Ики-Бурул, Ики-...  45.826910   \n6258  улица Жигульского, 1, Лагань, Республика Калмы...  45.389283   \n6259  улица Б. Городовикова, 3А, Элиста, Республика ...  46.306940   \n6260  улица В.И. Ленина, 11с3, Элиста, Республика Ка...  46.313681   \n\n            long    target                          area_fias_id  \\\n0      44.260407  0.019958                                   NaN   \n1      48.300632 -0.089111                                   NaN   \n2     135.052576 -0.048769                                   NaN   \n3     129.721362 -0.041545                                   NaN   \n4     118.027310  0.025479  539e012d-a5c0-4a81-83b9-cf87ea0f7697   \n...          ...       ...                                   ...   \n6256   47.574161 -0.097043  144ddb64-8ff6-4396-8ee6-7207bfbde842   \n6257   44.647851 -0.090848  83386818-e69a-42c1-8695-dafc116ab823   \n6258   47.361688  0.036916  92c30b00-187a-4d5e-9297-49366761187d   \n6259   44.266534 -0.135684                                   NaN   \n6260   44.221456 -0.103281                                   NaN   \n\n           area_with_type  ... metro_distance_2 metro_station_name_3  \\\n0                     NaN  ...              NaN                  NaN   \n1                     NaN  ...              NaN                  NaN   \n2                     NaN  ...              NaN                  NaN   \n3                     NaN  ...              NaN                  NaN   \n4     Краснокаменский р-н  ...              NaN                  NaN   \n...                   ...  ...              ...                  ...   \n6256     Шемуршинский р-н  ...              NaN                  NaN   \n6257   Ики-Бурульский р-н  ...              NaN                  NaN   \n6258        Лаганский р-н  ...              NaN                  NaN   \n6259                  NaN  ...              NaN                  NaN   \n6260                  NaN  ...              NaN                  NaN   \n\n     metro_line_name_3  metro_distance_3               street  \\\n0                  NaN               NaN    им Буденного С.М.   \n1                  NaN               NaN           Хо Ши Мина   \n2                  NaN               NaN              Шелеста   \n3                  NaN               NaN         Орджоникидзе   \n4                  NaN               NaN            Ветеранов   \n...                ...               ...                  ...   \n6256               NaN               NaN              Чкалова   \n6257               NaN               NaN          Октябрьская   \n6258               NaN               NaN          Жигульского   \n6259               NaN               NaN  им Б.Б.Городовикова   \n6260               NaN               NaN           В.И.Ленина   \n\n                             house_fias_id house metro locality_area  \\\n0     cc2b04c8-b15f-41c1-a9a2-e57ccd4c293b    7А   NaN     53.376920   \n1     5780b18d-d67c-4300-b932-6104b2346faf    19   NaN    326.723424   \n2     933fb2ef-5e12-4dcb-a310-7e1e38f519d7  116А   NaN    389.085968   \n3     113d873b-ead4-42b2-acf8-d2d3ac427b5e    52   NaN    144.141162   \n4     2e866034-f3cf-4015-8226-dfde4456bc1b    11   NaN     26.359358   \n...                                    ...   ...   ...           ...   \n6256  a94ade96-1e5a-45cb-bad4-da6ad4656107    14   NaN  18392.485727   \n6257  772d5a34-b6dc-4900-88ef-67f212cff5d8    16   NaN  72104.779759   \n6258  a6895079-bb11-47f7-a7d4-3284fc0d1b45     1   NaN     11.643585   \n6259  bf58dd0f-fb55-4b1e-8169-2c5ceb30928e     1   NaN     53.376920   \n6260  819d0f7f-5b3a-4ec8-989d-cee82dd8d03a    11   NaN     53.376920   \n\n     locality_population  \n0               103122.0  \n1               627705.0  \n2               616372.0  \n3               322987.0  \n4                51387.0  \n...                  ...  \n6256           1217818.0  \n6257            271135.0  \n6258             12769.0  \n6259            103122.0  \n6260            103122.0  \n\n[6261 rows x 50 columns]",
      "text/html": "<div>\n<style scoped>\n    .dataframe tbody tr th:only-of-type {\n        vertical-align: middle;\n    }\n\n    .dataframe tbody tr th {\n        vertical-align: top;\n    }\n\n    .dataframe thead th {\n        text-align: right;\n    }\n</style>\n<table border=\"1\" class=\"dataframe\">\n  <thead>\n    <tr style=\"text-align: right;\">\n      <th></th>\n      <th>Unnamed: 0</th>\n      <th>id</th>\n      <th>atm_group</th>\n      <th>address</th>\n      <th>address_rus</th>\n      <th>lat</th>\n      <th>long</th>\n      <th>target</th>\n      <th>area_fias_id</th>\n      <th>area_with_type</th>\n      <th>...</th>\n      <th>metro_distance_2</th>\n      <th>metro_station_name_3</th>\n      <th>metro_line_name_3</th>\n      <th>metro_distance_3</th>\n      <th>street</th>\n      <th>house_fias_id</th>\n      <th>house</th>\n      <th>metro</th>\n      <th>locality_area</th>\n      <th>locality_population</th>\n    </tr>\n  </thead>\n  <tbody>\n    <tr>\n      <th>0</th>\n      <td>2606</td>\n      <td>5.0</td>\n      <td>496.5</td>\n      <td>BUDENNOGO 7A              ELISTA</td>\n      <td>улица С.М. Будённого, 7А, Элиста, Республика К...</td>\n      <td>46.318213</td>\n      <td>44.260407</td>\n      <td>0.019958</td>\n      <td>NaN</td>\n      <td>NaN</td>\n      <td>...</td>\n      <td>NaN</td>\n      <td>NaN</td>\n      <td>NaN</td>\n      <td>NaN</td>\n      <td>им Буденного С.М.</td>\n      <td>cc2b04c8-b15f-41c1-a9a2-e57ccd4c293b</td>\n      <td>7А</td>\n      <td>NaN</td>\n      <td>53.376920</td>\n      <td>103122.0</td>\n    </tr>\n    <tr>\n      <th>1</th>\n      <td>2607</td>\n      <td>6.0</td>\n      <td>496.5</td>\n      <td>HO CHI MIHN AVE, 19       ULYANOVSK</td>\n      <td>г Ульяновск, пр-кт Хо Ши Мина, д 19</td>\n      <td>54.270398</td>\n      <td>48.300632</td>\n      <td>-0.089111</td>\n      <td>NaN</td>\n      <td>NaN</td>\n      <td>...</td>\n      <td>NaN</td>\n      <td>NaN</td>\n      <td>NaN</td>\n      <td>NaN</td>\n      <td>Хо Ши Мина</td>\n      <td>5780b18d-d67c-4300-b932-6104b2346faf</td>\n      <td>19</td>\n      <td>NaN</td>\n      <td>326.723424</td>\n      <td>627705.0</td>\n    </tr>\n    <tr>\n      <th>2</th>\n      <td>5126</td>\n      <td>7.0</td>\n      <td>496.5</td>\n      <td>SHELESTA 116A             KHABAROVSK</td>\n      <td>улица Шелеста, 116А, Хабаровск, Россия, 680042</td>\n      <td>48.520503</td>\n      <td>135.052576</td>\n      <td>-0.048769</td>\n      <td>NaN</td>\n      <td>NaN</td>\n      <td>...</td>\n      <td>NaN</td>\n      <td>NaN</td>\n      <td>NaN</td>\n      <td>NaN</td>\n      <td>Шелеста</td>\n      <td>933fb2ef-5e12-4dcb-a310-7e1e38f519d7</td>\n      <td>116А</td>\n      <td>NaN</td>\n      <td>389.085968</td>\n      <td>616372.0</td>\n    </tr>\n    <tr>\n      <th>3</th>\n      <td>2608</td>\n      <td>8.0</td>\n      <td>496.5</td>\n      <td>ORDZHONIKIDZE 52          YAKUTSK</td>\n      <td>улица Орджоникидзе, 52, Якутск, Республика Сах...</td>\n      <td>62.025583</td>\n      <td>129.721362</td>\n      <td>-0.041545</td>\n      <td>NaN</td>\n      <td>NaN</td>\n      <td>...</td>\n      <td>NaN</td>\n      <td>NaN</td>\n      <td>NaN</td>\n      <td>NaN</td>\n      <td>Орджоникидзе</td>\n      <td>113d873b-ead4-42b2-acf8-d2d3ac427b5e</td>\n      <td>52</td>\n      <td>NaN</td>\n      <td>144.141162</td>\n      <td>322987.0</td>\n    </tr>\n    <tr>\n      <th>4</th>\n      <td>2609</td>\n      <td>10.0</td>\n      <td>496.5</td>\n      <td>VETERANOV AVE, 3          KRASNOKAMENS</td>\n      <td>проспект Ветеранов, 11, Краснокаменск, Забайка...</td>\n      <td>50.089050</td>\n      <td>118.027310</td>\n      <td>0.025479</td>\n      <td>539e012d-a5c0-4a81-83b9-cf87ea0f7697</td>\n      <td>Краснокаменский р-н</td>\n      <td>...</td>\n      <td>NaN</td>\n      <td>NaN</td>\n      <td>NaN</td>\n      <td>NaN</td>\n      <td>Ветеранов</td>\n      <td>2e866034-f3cf-4015-8226-dfde4456bc1b</td>\n      <td>11</td>\n      <td>NaN</td>\n      <td>26.359358</td>\n      <td>51387.0</td>\n    </tr>\n    <tr>\n      <th>...</th>\n      <td>...</td>\n      <td>...</td>\n      <td>...</td>\n      <td>...</td>\n      <td>...</td>\n      <td>...</td>\n      <td>...</td>\n      <td>...</td>\n      <td>...</td>\n      <td>...</td>\n      <td>...</td>\n      <td>...</td>\n      <td>...</td>\n      <td>...</td>\n      <td>...</td>\n      <td>...</td>\n      <td>...</td>\n      <td>...</td>\n      <td>...</td>\n      <td>...</td>\n      <td>...</td>\n    </tr>\n    <tr>\n      <th>6256</th>\n      <td>5125</td>\n      <td>8806.0</td>\n      <td>496.5</td>\n      <td>CHKALOVA 14               S. TROITSKOY</td>\n      <td>улица Чкалова, 14, Шемуршинский район, Чувашск...</td>\n      <td>54.879459</td>\n      <td>47.574161</td>\n      <td>-0.097043</td>\n      <td>144ddb64-8ff6-4396-8ee6-7207bfbde842</td>\n      <td>Шемуршинский р-н</td>\n      <td>...</td>\n      <td>NaN</td>\n      <td>NaN</td>\n      <td>NaN</td>\n      <td>NaN</td>\n      <td>Чкалова</td>\n      <td>a94ade96-1e5a-45cb-bad4-da6ad4656107</td>\n      <td>14</td>\n      <td>NaN</td>\n      <td>18392.485727</td>\n      <td>1217818.0</td>\n    </tr>\n    <tr>\n      <th>6257</th>\n      <td>1368</td>\n      <td>8807.0</td>\n      <td>496.5</td>\n      <td>OKTYABRSKAYA 18A          IKI-BURUL</td>\n      <td>Октябрьская улица, 16, поселок Ики-Бурул, Ики-...</td>\n      <td>45.826910</td>\n      <td>44.647851</td>\n      <td>-0.090848</td>\n      <td>83386818-e69a-42c1-8695-dafc116ab823</td>\n      <td>Ики-Бурульский р-н</td>\n      <td>...</td>\n      <td>NaN</td>\n      <td>NaN</td>\n      <td>NaN</td>\n      <td>NaN</td>\n      <td>Октябрьская</td>\n      <td>772d5a34-b6dc-4900-88ef-67f212cff5d8</td>\n      <td>16</td>\n      <td>NaN</td>\n      <td>72104.779759</td>\n      <td>271135.0</td>\n    </tr>\n    <tr>\n      <th>6258</th>\n      <td>2605</td>\n      <td>8809.0</td>\n      <td>496.5</td>\n      <td>ZHIGULSKOGO 1\"Z\"          LAGAN</td>\n      <td>улица Жигульского, 1, Лагань, Республика Калмы...</td>\n      <td>45.389283</td>\n      <td>47.361688</td>\n      <td>0.036916</td>\n      <td>92c30b00-187a-4d5e-9297-49366761187d</td>\n      <td>Лаганский р-н</td>\n      <td>...</td>\n      <td>NaN</td>\n      <td>NaN</td>\n      <td>NaN</td>\n      <td>NaN</td>\n      <td>Жигульского</td>\n      <td>a6895079-bb11-47f7-a7d4-3284fc0d1b45</td>\n      <td>1</td>\n      <td>NaN</td>\n      <td>11.643585</td>\n      <td>12769.0</td>\n    </tr>\n    <tr>\n      <th>6259</th>\n      <td>3873</td>\n      <td>8810.0</td>\n      <td>496.5</td>\n      <td>GORODOVIKOVA 3A           ELISTA</td>\n      <td>улица Б. Городовикова, 3А, Элиста, Республика ...</td>\n      <td>46.306940</td>\n      <td>44.266534</td>\n      <td>-0.135684</td>\n      <td>NaN</td>\n      <td>NaN</td>\n      <td>...</td>\n      <td>NaN</td>\n      <td>NaN</td>\n      <td>NaN</td>\n      <td>NaN</td>\n      <td>им Б.Б.Городовикова</td>\n      <td>bf58dd0f-fb55-4b1e-8169-2c5ceb30928e</td>\n      <td>1</td>\n      <td>NaN</td>\n      <td>53.376920</td>\n      <td>103122.0</td>\n    </tr>\n    <tr>\n      <th>6260</th>\n      <td>1369</td>\n      <td>8811.0</td>\n      <td>496.5</td>\n      <td>LENINA 11/3               ELISTA</td>\n      <td>улица В.И. Ленина, 11с3, Элиста, Республика Ка...</td>\n      <td>46.313681</td>\n      <td>44.221456</td>\n      <td>-0.103281</td>\n      <td>NaN</td>\n      <td>NaN</td>\n      <td>...</td>\n      <td>NaN</td>\n      <td>NaN</td>\n      <td>NaN</td>\n      <td>NaN</td>\n      <td>В.И.Ленина</td>\n      <td>819d0f7f-5b3a-4ec8-989d-cee82dd8d03a</td>\n      <td>11</td>\n      <td>NaN</td>\n      <td>53.376920</td>\n      <td>103122.0</td>\n    </tr>\n  </tbody>\n</table>\n<p>6261 rows × 50 columns</p>\n</div>"
     },
     "execution_count": 25,
     "metadata": {},
     "output_type": "execute_result"
    }
   ],
   "source": [
    "import pandas as pd\n",
    "df = pd.read_csv('../data_collection/datasets/train.csv')\n",
    "df"
   ]
  },
  {
   "cell_type": "markdown",
   "source": [
    "Видно, что в нем есть поля, которые в дальнейшем не понадобятся: \n",
    "- поля с идентификаторами Федеральной информационной адресной системы (ФИАС). Никакой смысловой нагрузки они не несут и нужны только для того, чтобы однозначно идентифицировать элементы адресного деления внутри ФИАС. Эти идентификаторы могут пригодится для сбора дополнительных данных, но для анализа они не требуются\n",
    "- поля с координатами элементов адресного деления ФИАС (региона, района, города, поселения и улицы). У нас уже есть более точные координаты расположения банкомата\n",
    "- fias-level - уровень найденного элемента в системе ФИАС (уровень дома или только уровень улицы; или же вообще уровень района города). Этот уровень и так отражен в найденных компонентах адреса\n",
    "\n",
    "Сформируем датасет без ненужных полей, а для нескольких оставшихся - сделаем переименование"
   ],
   "metadata": {
    "collapsed": false
   },
   "id": "81a87631a576b36b"
  },
  {
   "cell_type": "code",
   "execution_count": 27,
   "outputs": [
    {
     "data": {
      "text/plain": "      id_0      id  atm_group                                 address  \\\n0     2606     5.0      496.5  BUDENNOGO 7A              ELISTA         \n1     2607     6.0      496.5  HO CHI MIHN AVE, 19       ULYANOVSK      \n2     5126     7.0      496.5  SHELESTA 116A             KHABAROVSK     \n3     2608     8.0      496.5  ORDZHONIKIDZE 52          YAKUTSK        \n4     2609    10.0      496.5  VETERANOV AVE, 3          KRASNOKAMENS   \n...    ...     ...        ...                                     ...   \n6256  5125  8806.0      496.5  CHKALOVA 14               S. TROITSKOY   \n6257  1368  8807.0      496.5  OKTYABRSKAYA 18A          IKI-BURUL      \n6258  2605  8809.0      496.5  ZHIGULSKOGO 1\"Z\"          LAGAN          \n6259  3873  8810.0      496.5  GORODOVIKOVA 3A           ELISTA         \n6260  1369  8811.0      496.5  LENINA 11/3               ELISTA         \n\n                                            address_rus        lat  \\\n0     улица С.М. Будённого, 7А, Элиста, Республика К...  46.318213   \n1                   г Ульяновск, пр-кт Хо Ши Мина, д 19  54.270398   \n2        улица Шелеста, 116А, Хабаровск, Россия, 680042  48.520503   \n3     улица Орджоникидзе, 52, Якутск, Республика Сах...  62.025583   \n4     проспект Ветеранов, 11, Краснокаменск, Забайка...  50.089050   \n...                                                 ...        ...   \n6256  улица Чкалова, 14, Шемуршинский район, Чувашск...  54.879459   \n6257  Октябрьская улица, 16, поселок Ики-Бурул, Ики-...  45.826910   \n6258  улица Жигульского, 1, Лагань, Республика Калмы...  45.389283   \n6259  улица Б. Городовикова, 3А, Элиста, Республика ...  46.306940   \n6260  улица В.И. Ленина, 11с3, Элиста, Республика Ка...  46.313681   \n\n            long    target federal_district                region_with_type  \\\n0      44.260407  0.019958            Южный                   Респ Калмыкия   \n1      48.300632 -0.089111      Приволжский                 Ульяновская обл   \n2     135.052576 -0.048769  Дальневосточный                Хабаровский край   \n3     129.721362 -0.041545  Дальневосточный              Респ Саха /Якутия/   \n4     118.027310  0.025479  Дальневосточный              Забайкальский край   \n...          ...       ...              ...                             ...   \n6256   47.574161 -0.097043      Приволжский  Чувашская Республика - Чувашия   \n6257   44.647851 -0.090848            Южный                   Респ Калмыкия   \n6258   47.361688  0.036916            Южный                   Респ Калмыкия   \n6259   44.266534 -0.135684            Южный                   Респ Калмыкия   \n6260   44.221456 -0.103281            Южный                   Респ Калмыкия   \n\n      ... metro_line_name_1 metro_distance_1 metro_station_name_2  \\\n0     ...               NaN              NaN                  NaN   \n1     ...               NaN              NaN                  NaN   \n2     ...               NaN              NaN                  NaN   \n3     ...               NaN              NaN                  NaN   \n4     ...               NaN              NaN                  NaN   \n...   ...               ...              ...                  ...   \n6256  ...               NaN              NaN                  NaN   \n6257  ...               NaN              NaN                  NaN   \n6258  ...               NaN              NaN                  NaN   \n6259  ...               NaN              NaN                  NaN   \n6260  ...               NaN              NaN                  NaN   \n\n     metro_line_name_2  metro_distance_2 metro_station_name_3  \\\n0                  NaN               NaN                  NaN   \n1                  NaN               NaN                  NaN   \n2                  NaN               NaN                  NaN   \n3                  NaN               NaN                  NaN   \n4                  NaN               NaN                  NaN   \n...                ...               ...                  ...   \n6256               NaN               NaN                  NaN   \n6257               NaN               NaN                  NaN   \n6258               NaN               NaN                  NaN   \n6259               NaN               NaN                  NaN   \n6260               NaN               NaN                  NaN   \n\n     metro_line_name_3 metro_distance_3  locality_area locality_population  \n0                  NaN              NaN      53.376920            103122.0  \n1                  NaN              NaN     326.723424            627705.0  \n2                  NaN              NaN     389.085968            616372.0  \n3                  NaN              NaN     144.141162            322987.0  \n4                  NaN              NaN      26.359358             51387.0  \n...                ...              ...            ...                 ...  \n6256               NaN              NaN   18392.485727           1217818.0  \n6257               NaN              NaN   72104.779759            271135.0  \n6258               NaN              NaN      11.643585             12769.0  \n6259               NaN              NaN      53.376920            103122.0  \n6260               NaN              NaN      53.376920            103122.0  \n\n[6261 rows x 30 columns]",
      "text/html": "<div>\n<style scoped>\n    .dataframe tbody tr th:only-of-type {\n        vertical-align: middle;\n    }\n\n    .dataframe tbody tr th {\n        vertical-align: top;\n    }\n\n    .dataframe thead th {\n        text-align: right;\n    }\n</style>\n<table border=\"1\" class=\"dataframe\">\n  <thead>\n    <tr style=\"text-align: right;\">\n      <th></th>\n      <th>id_0</th>\n      <th>id</th>\n      <th>atm_group</th>\n      <th>address</th>\n      <th>address_rus</th>\n      <th>lat</th>\n      <th>long</th>\n      <th>target</th>\n      <th>federal_district</th>\n      <th>region_with_type</th>\n      <th>...</th>\n      <th>metro_line_name_1</th>\n      <th>metro_distance_1</th>\n      <th>metro_station_name_2</th>\n      <th>metro_line_name_2</th>\n      <th>metro_distance_2</th>\n      <th>metro_station_name_3</th>\n      <th>metro_line_name_3</th>\n      <th>metro_distance_3</th>\n      <th>locality_area</th>\n      <th>locality_population</th>\n    </tr>\n  </thead>\n  <tbody>\n    <tr>\n      <th>0</th>\n      <td>2606</td>\n      <td>5.0</td>\n      <td>496.5</td>\n      <td>BUDENNOGO 7A              ELISTA</td>\n      <td>улица С.М. Будённого, 7А, Элиста, Республика К...</td>\n      <td>46.318213</td>\n      <td>44.260407</td>\n      <td>0.019958</td>\n      <td>Южный</td>\n      <td>Респ Калмыкия</td>\n      <td>...</td>\n      <td>NaN</td>\n      <td>NaN</td>\n      <td>NaN</td>\n      <td>NaN</td>\n      <td>NaN</td>\n      <td>NaN</td>\n      <td>NaN</td>\n      <td>NaN</td>\n      <td>53.376920</td>\n      <td>103122.0</td>\n    </tr>\n    <tr>\n      <th>1</th>\n      <td>2607</td>\n      <td>6.0</td>\n      <td>496.5</td>\n      <td>HO CHI MIHN AVE, 19       ULYANOVSK</td>\n      <td>г Ульяновск, пр-кт Хо Ши Мина, д 19</td>\n      <td>54.270398</td>\n      <td>48.300632</td>\n      <td>-0.089111</td>\n      <td>Приволжский</td>\n      <td>Ульяновская обл</td>\n      <td>...</td>\n      <td>NaN</td>\n      <td>NaN</td>\n      <td>NaN</td>\n      <td>NaN</td>\n      <td>NaN</td>\n      <td>NaN</td>\n      <td>NaN</td>\n      <td>NaN</td>\n      <td>326.723424</td>\n      <td>627705.0</td>\n    </tr>\n    <tr>\n      <th>2</th>\n      <td>5126</td>\n      <td>7.0</td>\n      <td>496.5</td>\n      <td>SHELESTA 116A             KHABAROVSK</td>\n      <td>улица Шелеста, 116А, Хабаровск, Россия, 680042</td>\n      <td>48.520503</td>\n      <td>135.052576</td>\n      <td>-0.048769</td>\n      <td>Дальневосточный</td>\n      <td>Хабаровский край</td>\n      <td>...</td>\n      <td>NaN</td>\n      <td>NaN</td>\n      <td>NaN</td>\n      <td>NaN</td>\n      <td>NaN</td>\n      <td>NaN</td>\n      <td>NaN</td>\n      <td>NaN</td>\n      <td>389.085968</td>\n      <td>616372.0</td>\n    </tr>\n    <tr>\n      <th>3</th>\n      <td>2608</td>\n      <td>8.0</td>\n      <td>496.5</td>\n      <td>ORDZHONIKIDZE 52          YAKUTSK</td>\n      <td>улица Орджоникидзе, 52, Якутск, Республика Сах...</td>\n      <td>62.025583</td>\n      <td>129.721362</td>\n      <td>-0.041545</td>\n      <td>Дальневосточный</td>\n      <td>Респ Саха /Якутия/</td>\n      <td>...</td>\n      <td>NaN</td>\n      <td>NaN</td>\n      <td>NaN</td>\n      <td>NaN</td>\n      <td>NaN</td>\n      <td>NaN</td>\n      <td>NaN</td>\n      <td>NaN</td>\n      <td>144.141162</td>\n      <td>322987.0</td>\n    </tr>\n    <tr>\n      <th>4</th>\n      <td>2609</td>\n      <td>10.0</td>\n      <td>496.5</td>\n      <td>VETERANOV AVE, 3          KRASNOKAMENS</td>\n      <td>проспект Ветеранов, 11, Краснокаменск, Забайка...</td>\n      <td>50.089050</td>\n      <td>118.027310</td>\n      <td>0.025479</td>\n      <td>Дальневосточный</td>\n      <td>Забайкальский край</td>\n      <td>...</td>\n      <td>NaN</td>\n      <td>NaN</td>\n      <td>NaN</td>\n      <td>NaN</td>\n      <td>NaN</td>\n      <td>NaN</td>\n      <td>NaN</td>\n      <td>NaN</td>\n      <td>26.359358</td>\n      <td>51387.0</td>\n    </tr>\n    <tr>\n      <th>...</th>\n      <td>...</td>\n      <td>...</td>\n      <td>...</td>\n      <td>...</td>\n      <td>...</td>\n      <td>...</td>\n      <td>...</td>\n      <td>...</td>\n      <td>...</td>\n      <td>...</td>\n      <td>...</td>\n      <td>...</td>\n      <td>...</td>\n      <td>...</td>\n      <td>...</td>\n      <td>...</td>\n      <td>...</td>\n      <td>...</td>\n      <td>...</td>\n      <td>...</td>\n      <td>...</td>\n    </tr>\n    <tr>\n      <th>6256</th>\n      <td>5125</td>\n      <td>8806.0</td>\n      <td>496.5</td>\n      <td>CHKALOVA 14               S. TROITSKOY</td>\n      <td>улица Чкалова, 14, Шемуршинский район, Чувашск...</td>\n      <td>54.879459</td>\n      <td>47.574161</td>\n      <td>-0.097043</td>\n      <td>Приволжский</td>\n      <td>Чувашская Республика - Чувашия</td>\n      <td>...</td>\n      <td>NaN</td>\n      <td>NaN</td>\n      <td>NaN</td>\n      <td>NaN</td>\n      <td>NaN</td>\n      <td>NaN</td>\n      <td>NaN</td>\n      <td>NaN</td>\n      <td>18392.485727</td>\n      <td>1217818.0</td>\n    </tr>\n    <tr>\n      <th>6257</th>\n      <td>1368</td>\n      <td>8807.0</td>\n      <td>496.5</td>\n      <td>OKTYABRSKAYA 18A          IKI-BURUL</td>\n      <td>Октябрьская улица, 16, поселок Ики-Бурул, Ики-...</td>\n      <td>45.826910</td>\n      <td>44.647851</td>\n      <td>-0.090848</td>\n      <td>Южный</td>\n      <td>Респ Калмыкия</td>\n      <td>...</td>\n      <td>NaN</td>\n      <td>NaN</td>\n      <td>NaN</td>\n      <td>NaN</td>\n      <td>NaN</td>\n      <td>NaN</td>\n      <td>NaN</td>\n      <td>NaN</td>\n      <td>72104.779759</td>\n      <td>271135.0</td>\n    </tr>\n    <tr>\n      <th>6258</th>\n      <td>2605</td>\n      <td>8809.0</td>\n      <td>496.5</td>\n      <td>ZHIGULSKOGO 1\"Z\"          LAGAN</td>\n      <td>улица Жигульского, 1, Лагань, Республика Калмы...</td>\n      <td>45.389283</td>\n      <td>47.361688</td>\n      <td>0.036916</td>\n      <td>Южный</td>\n      <td>Респ Калмыкия</td>\n      <td>...</td>\n      <td>NaN</td>\n      <td>NaN</td>\n      <td>NaN</td>\n      <td>NaN</td>\n      <td>NaN</td>\n      <td>NaN</td>\n      <td>NaN</td>\n      <td>NaN</td>\n      <td>11.643585</td>\n      <td>12769.0</td>\n    </tr>\n    <tr>\n      <th>6259</th>\n      <td>3873</td>\n      <td>8810.0</td>\n      <td>496.5</td>\n      <td>GORODOVIKOVA 3A           ELISTA</td>\n      <td>улица Б. Городовикова, 3А, Элиста, Республика ...</td>\n      <td>46.306940</td>\n      <td>44.266534</td>\n      <td>-0.135684</td>\n      <td>Южный</td>\n      <td>Респ Калмыкия</td>\n      <td>...</td>\n      <td>NaN</td>\n      <td>NaN</td>\n      <td>NaN</td>\n      <td>NaN</td>\n      <td>NaN</td>\n      <td>NaN</td>\n      <td>NaN</td>\n      <td>NaN</td>\n      <td>53.376920</td>\n      <td>103122.0</td>\n    </tr>\n    <tr>\n      <th>6260</th>\n      <td>1369</td>\n      <td>8811.0</td>\n      <td>496.5</td>\n      <td>LENINA 11/3               ELISTA</td>\n      <td>улица В.И. Ленина, 11с3, Элиста, Республика Ка...</td>\n      <td>46.313681</td>\n      <td>44.221456</td>\n      <td>-0.103281</td>\n      <td>Южный</td>\n      <td>Респ Калмыкия</td>\n      <td>...</td>\n      <td>NaN</td>\n      <td>NaN</td>\n      <td>NaN</td>\n      <td>NaN</td>\n      <td>NaN</td>\n      <td>NaN</td>\n      <td>NaN</td>\n      <td>NaN</td>\n      <td>53.376920</td>\n      <td>103122.0</td>\n    </tr>\n  </tbody>\n</table>\n<p>6261 rows × 30 columns</p>\n</div>"
     },
     "execution_count": 27,
     "metadata": {},
     "output_type": "execute_result"
    }
   ],
   "source": [
    "final_col_list = [\n",
    "    'Unnamed: 0', 'id', 'atm_group', 'address', 'address_rus', 'lat', 'long', 'target', \n",
    "    'federal_district', \n",
    "    'region_with_type',  #'region_fias_id', 'region_lat', 'region_lon',\n",
    "    'area_with_type', #'area_fias_id', 'area_lat', 'area_lon', \n",
    "    'city_with_type', #'city_fias_id', 'city_lat', 'city_lon',\n",
    "    'city_area',\n",
    "    'city_district_with_type', #'city_district_fias_id', \n",
    "    'capital_marker', \n",
    "    'settlement_with_type', #'settlement_fias_id', 'settlement_lat', 'settlement_lon',\n",
    "    'street_with_type', #'street_fias_id', 'street_lat', 'street_lon', 'street',\n",
    "    'house',  #'house_fias_id', \n",
    "    'metro',\n",
    "    'metro_station_name_1', 'metro_line_name_1', 'metro_distance_1', \n",
    "    'metro_station_name_2', 'metro_line_name_2', 'metro_distance_2', \n",
    "    'metro_station_name_3', 'metro_line_name_3', 'metro_distance_3', \n",
    "    'locality_area', \n",
    "    'locality_population', \n",
    "    #'fias_level', 'fias_id'\n",
    "]\n",
    "\n",
    "df = df[final_col_list]\n",
    "df.rename(columns={'Unnamed: 0':'id_0', 'metro':'nearest_metro_distance'}, inplace=True)\n",
    "df"
   ],
   "metadata": {
    "collapsed": false,
    "ExecuteTime": {
     "end_time": "2023-11-14T19:10:12.571649400Z",
     "start_time": "2023-11-14T19:10:12.540221700Z"
    }
   },
   "id": "423a4b15af76a6fd"
  },
  {
   "cell_type": "markdown",
   "source": [
    "Полученный датасет сохраним для проведения разведывательного анализа данных"
   ],
   "metadata": {
    "collapsed": false
   },
   "id": "a39ac9d198360503"
  },
  {
   "cell_type": "code",
   "execution_count": 28,
   "outputs": [],
   "source": [
    "df.to_csv('datasets/train.csv', index=False)"
   ],
   "metadata": {
    "collapsed": false,
    "ExecuteTime": {
     "end_time": "2023-11-14T19:10:19.378973800Z",
     "start_time": "2023-11-14T19:10:19.308337200Z"
    }
   },
   "id": "446c6ba1abaafecd"
  }
 ],
 "metadata": {
  "kernelspec": {
   "display_name": "Python 3",
   "language": "python",
   "name": "python3"
  },
  "language_info": {
   "codemirror_mode": {
    "name": "ipython",
    "version": 2
   },
   "file_extension": ".py",
   "mimetype": "text/x-python",
   "name": "python",
   "nbconvert_exporter": "python",
   "pygments_lexer": "ipython2",
   "version": "2.7.6"
  }
 },
 "nbformat": 4,
 "nbformat_minor": 5
}
